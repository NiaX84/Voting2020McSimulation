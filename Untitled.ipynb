{
 "cells": [
  {
   "cell_type": "code",
   "execution_count": 1,
   "metadata": {},
   "outputs": [],
   "source": [
    "import numpy as np"
   ]
  },
  {
   "cell_type": "markdown",
   "metadata": {},
   "source": [
    "### Simulation of 2020 parliamentary election\n",
    "\n",
    "#### Assumptions\n",
    " * voting error 0.5%\n",
    " * expected values: official results of 2020\n",
    " * distribution of results per party: Gauss\n",
    " \n",
    "#### Methodology\n",
    " * in each run, resuslts for each voting room is simulated\n",
    " * number of votes per voting room is 1000\n",
    " * number of voting rooms is 6000\n",
    " * the 0.5% error is distributed among the parties proportiionally to their voting result\n",
    " * in each run, the expected value for the party is randomly selected from a Gauss distribution defined as follows:\n",
    "     * mu=result, sigma=0.5*result%\n",
    " * note: the weight cannot be larger than one"
   ]
  },
  {
   "cell_type": "code",
   "execution_count": 37,
   "metadata": {},
   "outputs": [],
   "source": [
    "party_ids = np.arange(0, 20) + 1.0\n",
    "party_results = [0.2502, 0.1829, 0.0824, 0.0787, 0.0696, 0.0622, 0.0577, 0.0465, 0.0390, 0.0316, 0.0306, 0.0293, 0.0205, 0.0055, 0.0032, 0.0028, 0.0014, 0.0011, 0.0007, 0.0006]"
   ]
  },
  {
   "cell_type": "code",
   "execution_count": null,
   "metadata": {},
   "outputs": [],
   "source": [
    "n_sims = 10\n",
    "import collections\n",
    "results = {}\n",
    "probablities = np.ones(20) / 20\n",
    "summary = np.empty((n_sims, 20))\n",
    "for i in range(n_sims):\n",
    "    results_tmp = np.empty(0)\n",
    "    for j in range(5000):\n",
    "        pdfs = [np.random.normal(party_results[i], 0.005*party_results[i], 1) * 1./20. for i in range(20)]\n",
    "        denominator = np.sum(pdfs)\n",
    "        probs = [pdf[0]/denominator for pdf in pdfs]\n",
    "        results_tmp = np.append(results_tmp, np.random.choice(party_ids, 1000, p=probs))\n",
    "    results_per_sim = collections.Counter(results_tmp)\n",
    "    summary[i, :] = [results_per_sim[party_id]/5000000 for party_id in party_ids]"
   ]
  },
  {
   "cell_type": "code",
   "execution_count": 52,
   "metadata": {},
   "outputs": [],
   "source": [
    "    "
   ]
  },
  {
   "cell_type": "code",
   "execution_count": 55,
   "metadata": {},
   "outputs": [
    {
     "data": {
      "text/plain": [
       "array([0.0697048, 0.0699   , 0.0697766, 0.069748 , 0.0697654, 0.0698142,\n",
       "       0.0698882, 0.0697826, 0.0696762, 0.06993  ])"
      ]
     },
     "execution_count": 55,
     "metadata": {},
     "output_type": "execute_result"
    }
   ],
   "source": [
    "summary[:, 4]"
   ]
  },
  {
   "cell_type": "code",
   "execution_count": null,
   "metadata": {},
   "outputs": [],
   "source": []
  }
 ],
 "metadata": {
  "kernelspec": {
   "display_name": "Python 3",
   "language": "python",
   "name": "python3"
  },
  "language_info": {
   "codemirror_mode": {
    "name": "ipython",
    "version": 3
   },
   "file_extension": ".py",
   "mimetype": "text/x-python",
   "name": "python",
   "nbconvert_exporter": "python",
   "pygments_lexer": "ipython3",
   "version": "3.7.3"
  }
 },
 "nbformat": 4,
 "nbformat_minor": 2
}
